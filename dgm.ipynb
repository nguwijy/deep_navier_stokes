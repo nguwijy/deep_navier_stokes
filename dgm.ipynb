{
 "cells": [
  {
   "cell_type": "markdown",
   "metadata": {},
   "source": [
    "<table align=\"left\">\n",
    "  <td>\n",
    "    <a href=\"https://colab.research.google.com/github/nguwijy/deep_navier_stokes/blob/master/main.ipynb\" target=\"_parent\"><img src=\"https://colab.research.google.com/assets/colab-badge.svg\" alt=\"Open In Colab\"/></a>\n",
    "  </td>\n",
    "</table>"
   ]
  },
  {
   "cell_type": "markdown",
   "metadata": {
    "id": "GSuvC0ycqjNq",
    "pycharm": {
     "name": "#%% md\n"
    }
   },
   "source": [
    "# Imports & basic configuration"
   ]
  },
  {
   "cell_type": "code",
   "execution_count": 1,
   "metadata": {
    "colab": {
     "base_uri": "https://localhost:8080/"
    },
    "executionInfo": {
     "elapsed": 2706,
     "status": "ok",
     "timestamp": 1647940111437,
     "user": {
      "displayName": "nguwi jy",
      "photoUrl": "https://lh3.googleusercontent.com/a-/AOh14GgoiFFc59OKXMvhrMZCwWWzqPAzDXA1ooQ_zi8p=s64",
      "userId": "17294038731682000497"
     },
     "user_tz": -480
    },
    "id": "6357edd9",
    "outputId": "f45d2e8e-9123-4654-b639-cb824fdfdbdc",
    "pycharm": {
     "name": "#%%\n"
    }
   },
   "outputs": [],
   "source": [
    "import os\n",
    "import sys\n",
    "# install the package if not yet installed\n",
    "try:\n",
    "    from branch.galerkin import DGMNet\n",
    "except:\n",
    "    !python -m pip install git+https://github.com/nguwijy/deep_branching_with_domain.git\n",
    "    from branch.galerkin import DGMNet\n",
    "import numbers\n",
    "import math\n",
    "from scipy import special\n",
    "import numpy as np\n",
    "import torch\n",
    "import matplotlib.pyplot as plt\n",
    "import matplotlib.colors\n",
    "from matplotlib import cm \n",
    "import time\n",
    "import logging\n",
    "from pynverse import inversefunc\n",
    "from functools import partial\n",
    "\n",
    "device = torch.device(\"cuda\" if torch.cuda.is_available() else \"cpu\")"
   ]
  },
  {
   "cell_type": "code",
   "execution_count": 2,
   "metadata": {
    "colab": {
     "base_uri": "https://localhost:8080/"
    },
    "executionInfo": {
     "elapsed": 362,
     "status": "ok",
     "timestamp": 1647940117264,
     "user": {
      "displayName": "nguwi jy",
      "photoUrl": "https://lh3.googleusercontent.com/a-/AOh14GgoiFFc59OKXMvhrMZCwWWzqPAzDXA1ooQ_zi8p=s64",
      "userId": "17294038731682000497"
     },
     "user_tz": -480
    },
    "id": "GKSN0XXSwzs_",
    "outputId": "479076d5-d9fa-418a-99aa-b38c14893038",
    "pycharm": {
     "name": "#%%\n"
    }
   },
   "outputs": [
    {
     "name": "stdout",
     "output_type": "stream",
     "text": [
      "torch version: 1.11.0+cu113\n"
     ]
    }
   ],
   "source": [
    "# perfect reproducibility is not guaranteed with different version of torch\n",
    "#\n",
    "print(f\"torch version: {torch.__version__}\")"
   ]
  },
  {
   "cell_type": "code",
   "execution_count": 3,
   "metadata": {
    "colab": {
     "base_uri": "https://localhost:8080/"
    },
    "executionInfo": {
     "elapsed": 29,
     "status": "ok",
     "timestamp": 1647940111438,
     "user": {
      "displayName": "nguwi jy",
      "photoUrl": "https://lh3.googleusercontent.com/a-/AOh14GgoiFFc59OKXMvhrMZCwWWzqPAzDXA1ooQ_zi8p=s64",
      "userId": "17294038731682000497"
     },
     "user_tz": -480
    },
    "id": "W8KR70pwVNfJ",
    "outputId": "0971b8c8-a20c-424a-d81f-1b53d6b34b84",
    "pycharm": {
     "name": "#%%\n"
    }
   },
   "outputs": [
    {
     "name": "stdout",
     "output_type": "stream",
     "text": [
      "Information of the allocated GPU.\n",
      "Sun Nov  6 21:27:29 2022       \n",
      "+-----------------------------------------------------------------------------+\n",
      "| NVIDIA-SMI 510.60.02    Driver Version: 512.15       CUDA Version: 11.6     |\n",
      "|-------------------------------+----------------------+----------------------+\n",
      "| GPU  Name        Persistence-M| Bus-Id        Disp.A | Volatile Uncorr. ECC |\n",
      "| Fan  Temp  Perf  Pwr:Usage/Cap|         Memory-Usage | GPU-Util  Compute M. |\n",
      "|                               |                      |               MIG M. |\n",
      "|===============================+======================+======================|\n",
      "|   0  NVIDIA GeForce ...  On   | 00000000:07:00.0  On |                  N/A |\n",
      "|  0%   43C    P8    29W / 350W |    489MiB / 12288MiB |      0%      Default |\n",
      "|                               |                      |                  N/A |\n",
      "+-------------------------------+----------------------+----------------------+\n",
      "                                                                               \n",
      "+-----------------------------------------------------------------------------+\n",
      "| Processes:                                                                  |\n",
      "|  GPU   GI   CI        PID   Type   Process name                  GPU Memory |\n",
      "|        ID   ID                                                   Usage      |\n",
      "|=============================================================================|\n",
      "|  No running processes found                                                 |\n",
      "+-----------------------------------------------------------------------------+\n"
     ]
    }
   ],
   "source": [
    "print(\"Information of the allocated GPU.\")\n",
    "!nvidia-smi"
   ]
  },
  {
   "cell_type": "markdown",
   "metadata": {
    "id": "puBETzqybZc7",
    "pycharm": {
     "name": "#%% md\n"
    }
   },
   "source": [
    "# Navier-Stokes equation\n",
    "$$\n",
    "\\begin{cases}\n",
    "  \\displaystyle\n",
    "  \\partial_t u_i(t,x) + \\frac{\\nu}{2} \\Delta u_i(t,x) = \\partial_{1_i} p(t,x) + \\sum\\limits_{j=0}^{d-1} u_j(t,x) \\partial_{1_j} u_i(t,x), \\quad i = 0,\\ldots , d-1,\n",
    "  \\\\\n",
    "u_i(T,x) = \\phi_i (x),\n",
    "  \\\\\n",
    "  \\displaystyle\n",
    "  \\Delta u_{-1}(t, x) = -\\sum\\limits_{i,j=0}^{d-1} \\partial_{1_j} u_i(t,x) \\partial_{1_i} u_j(t,x),\n",
    "   \\\\\n",
    "\\sum\\limits_{i = 0}^{d - 1} \\partial_{1_i} u_i(t, x) = 0, \\quad (t,x) = (t,x_1, \\ldots, x_d) \\in [0,T] \\times \\mathbb{R}^d.\n",
    "\\end{cases}\n",
    "$$"
   ]
  },
  {
   "cell_type": "markdown",
   "metadata": {
    "id": "puBETzqybZc7",
    "pycharm": {
     "name": "#%% md\n"
    }
   },
   "source": [
    "## 2-dimensional Taylor-Green vortex\n",
    "$$\n",
    "\\begin{cases}\n",
    "  \\displaystyle\n",
    "  u_1(t, x) = - \\cos(x_1) \\sin(x_2) e^{-\\nu (T - t)},\n",
    "  \\\\\n",
    "  u_2(t, x) = \\sin(x_1) \\cos(x_2) e^{-\\nu (T - t)},\n",
    "  \\\\\n",
    "  \\displaystyle\n",
    "  u_0(t, x) = -\\frac{1}{4} \\left(\\cos(2x_1) + \\cos(2x_2)\\right) e^{-2\\nu (T - t)} + c,\n",
    "\\end{cases}\n",
    "$$\n",
    "$x=(x_1,x_2) \\in [0,2\\pi]^2$."
   ]
  },
  {
   "cell_type": "code",
   "execution_count": 4,
   "metadata": {
    "id": "_fyuebzCGhoj",
    "pycharm": {
     "name": "#%%\n"
    }
   },
   "outputs": [],
   "source": [
    "# function definition\n",
    "deriv_map = np.array(\n",
    "    [\n",
    "        [1, 0],  # for nabla p\n",
    "        [0, 1],\n",
    "        [0, 0],  # for u\n",
    "        [0, 0],\n",
    "        [1, 0],  # for nabla u1\n",
    "        [0, 1],\n",
    "        [1, 0],  # for nabla u2\n",
    "        [0, 1],\n",
    "        [2, 0],  # for Laplacian\n",
    "        [0, 2],\n",
    "    ]\n",
    ")\n",
    "zeta_map = np.array([-1, -1, 0, 1, 0, 0, 1, 1, 0, 1])\n",
    "deriv_condition_deriv_map = np.array(\n",
    "    [\n",
    "        [1, 0],\n",
    "        [0, 1],\n",
    "    ]\n",
    ")\n",
    "deriv_condition_zeta_map = np.array([0, 1])\n",
    "_, dim = deriv_map.shape\n",
    "\n",
    "def f_example(y, coordinate):\n",
    "    \"\"\"\n",
    "    idx 0 -> no deriv\n",
    "    \"\"\"\n",
    "    f = -y[coordinate]\n",
    "    for j in range(dim):\n",
    "        f += -y[dim + j] * y[2 * dim + dim * coordinate + j]\n",
    "        # Laplacian\n",
    "        f += nu / 2 * (y[2 * dim + dim * dim + j])\n",
    "    return f\n",
    "\n",
    "def phi_example(x, coordinate):\n",
    "    if coordinate == 0:\n",
    "        return -torch.cos(x[0]) * torch.sin(x[1])\n",
    "    else:\n",
    "        return torch.sin(x[0]) * torch.cos(x[1])\n",
    "\n",
    "def exact_example(t, x, T, coordinate, nu):\n",
    "    if coordinate == 0:\n",
    "        return -np.cos(x[0]) * np.sin(x[1]) * np.exp(-nu * (T - t))\n",
    "    else:\n",
    "        return np.sin(x[0]) * np.cos(x[1]) * np.exp(-nu * (T - t))\n",
    "\n",
    "def exact_example_u_tensor(tx, coordinate, T, nu):\n",
    "    if coordinate == 0:\n",
    "        return -torch.cos(tx[1]) * torch.sin(tx[2]) * torch.exp(-nu * (T - tx[0]))\n",
    "    else:\n",
    "        return torch.sin(tx[1]) * torch.cos(tx[2]) * torch.exp(-nu * (T - tx[0]))\n",
    "\n",
    "def exact_example_p_tensor(tx):\n",
    "    return (\n",
    "        -1/ 4\n",
    "        * torch.exp(-2 * nu * (T - tx[0]))\n",
    "        * (torch.cos(2 * tx[1]) + torch.cos(2 * tx[2]))\n",
    "    )\n",
    "\n",
    "problem_name = \"taylor_green_2d\"\n",
    "t_lo, x_lo, x_hi = 0., 0, 2 * math.pi"
   ]
  },
  {
   "cell_type": "markdown",
   "metadata": {
    "pycharm": {
     "name": "#%% md\n"
    }
   },
   "source": [
    "### T = .25, nu = 2"
   ]
  },
  {
   "cell_type": "code",
   "execution_count": 5,
   "metadata": {
    "colab": {
     "base_uri": "https://localhost:8080/",
     "height": 1000
    },
    "executionInfo": {
     "elapsed": 1819106,
     "status": "ok",
     "timestamp": 1647941958787,
     "user": {
      "displayName": "nguwi jy",
      "photoUrl": "https://lh3.googleusercontent.com/a-/AOh14GgoiFFc59OKXMvhrMZCwWWzqPAzDXA1ooQ_zi8p=s64",
      "userId": "17294038731682000497"
     },
     "user_tz": -480
    },
    "id": "z249CC8jhDwl",
    "outputId": "874b2413-7201-4162-8d26-03b16de8216a",
    "pycharm": {
     "name": "#%%\n"
    },
    "scrolled": true
   },
   "outputs": [
    {
     "name": "stderr",
     "output_type": "stream",
     "text": [
      "Logs are saved in /home/nguwijy/repo/deep_branching_with_domain/notebooks/logs/20221106-212837-taylor_green_2d\n",
      "Epoch 0 with loss 0.29005107283592224\n",
      "Epoch 500 with loss 0.032900989055633545\n",
      "Epoch 1000 with loss 0.019409626722335815\n",
      "Epoch 1500 with loss 0.010213788598775864\n",
      "Epoch 2000 with loss 0.0051663420163095\n",
      "Epoch 2500 with loss 0.0017441695090383291\n",
      "Epoch 3000 with loss 0.0018337336368858814\n",
      "Epoch 3500 with loss 0.0007056955946609378\n",
      "Epoch 4000 with loss 0.0005807155393995345\n",
      "Epoch 4500 with loss 0.0003931762767024338\n",
      "Epoch 5000 with loss 0.0019611106254160404\n",
      "Epoch 5500 with loss 0.00027298106579110026\n",
      "Epoch 6000 with loss 0.0002490086480975151\n",
      "Epoch 6500 with loss 0.0003340146504342556\n",
      "Epoch 7000 with loss 0.0006609833799302578\n",
      "Epoch 7500 with loss 0.00016417265578638762\n",
      "Epoch 8000 with loss 0.00017816066974774003\n",
      "Epoch 8500 with loss 0.00013939390191808343\n",
      "Epoch 9000 with loss 0.00013410605606622994\n",
      "Epoch 9500 with loss 0.000277299084700644\n",
      "Epoch 9999 with loss 0.0001288348576053977\n",
      "Training of neural network with 10000 epochs take 888.3781840801239 seconds.\n"
     ]
    }
   ],
   "source": [
    "T, nu = .25, 2\n",
    "\n",
    "torch.manual_seed(0)\n",
    "model = DGMNet(\n",
    "    problem_name=problem_name,\n",
    "    dgm_f_fun=f_example,\n",
    "    phi_fun=phi_example,\n",
    "    dgm_deriv_map=deriv_map,\n",
    "    dgm_zeta_map=zeta_map,\n",
    "    deriv_condition_deriv_map=deriv_condition_deriv_map,\n",
    "    deriv_condition_zeta_map=deriv_condition_zeta_map,\n",
    "    t_hi=T,\n",
    "    x_lo=x_lo,\n",
    "    x_hi=x_hi,\n",
    "    device=device,\n",
    "    verbose=True,\n",
    "    epochs=10000,\n",
    "    dgm_nb_states=10000,\n",
    ")\n",
    "model.train_and_eval()"
   ]
  },
  {
   "cell_type": "code",
   "execution_count": 6,
   "metadata": {},
   "outputs": [
    {
     "name": "stderr",
     "output_type": "stream",
     "text": [
      "The error as in Lejay is calculated as follows.\n",
      "$\\hat{e}_0(t_k)$\n",
      "& 6.77E-01 & 7.21E-01 & 7.68E-01 & 8.20E-01 & 8.77E-01 & 9.40E-01 & 1.01E+00 & 1.08E+00 & 1.17E+00 & 1.26E+00 & --- \\\\\n",
      "$\\hat{e}_1(t_k)$\n",
      "& 2.27E-01 & 1.90E-01 & 1.55E-01 & 1.23E-01 & 9.36E-02 & 6.72E-02 & 4.45E-02 & 2.58E-02 & 1.19E-02 & 3.83E-03 & --- \\\\\n",
      "$\\hat{e}(t_k)$\n",
      "& 7.10E-01 & 7.46E-01 & 7.88E-01 & 8.35E-01 & 8.88E-01 & 9.47E-01 & 1.01E+00 & 1.09E+00 & 1.17E+00 & 1.26E+00 & --- \\\\\n",
      "\\hline\n",
      "\n",
      "The relative L2 error of u (erru) is calculated as follows.\n",
      "erru($t_k$)\n",
      "& 9.12E-01 & 8.70E-01 & 8.34E-01 & 8.03E-01 & 7.77E-01 & 7.57E-01 & 7.40E-01 & 7.28E-01 & 7.19E-01 & 7.14E-01 & --- \\\\\n",
      "\n",
      "The relative L2 error of gradient of u (errgu) is calculated as follows.\n",
      "errgu($t_k$)\n",
      "& 8.46E-01 & 8.17E-01 & 7.92E-01 & 7.70E-01 & 7.52E-01 & 7.38E-01 & 7.26E-01 & 7.18E-01 & 7.12E-01 & 7.08E-01 & --- \\\\\n",
      "\n",
      "The absolute divergence of u (errdivu) is calculated as follows.\n",
      "errdivu($t_k$)\n",
      "& 3.05E+00 & 3.06E+00 & 3.06E+00 & 3.06E+00 & 3.07E+00 & 3.08E+00 & 3.08E+00 & 3.09E+00 & 3.09E+00 & 3.10E+00 & --- \\\\\n",
      "\n",
      "The relative L2 error of p (errp) is calculated as follows.\n",
      "errp($t_k$)\n",
      "& --- & --- & --- & --- & --- & --- & --- & --- & --- & --- & 5.85E+00 \\\\\n"
     ]
    },
    {
     "data": {
      "image/png": "[encoded data removed]",
      "text/plain": [
       "<Figure size 432x288 with 1 Axes>"
      ]
     },
     "metadata": {
      "needs_background": "light"
     },
     "output_type": "display_data"
    },
    {
     "data": {
      "image/png": "[encoded data removed]",
      "text/plain": [
       "<Figure size 432x288 with 1 Axes>"
      ]
     },
     "metadata": {
      "needs_background": "light"
     },
     "output_type": "display_data"
    }
   ],
   "source": [
    "model.error_calculation(\n",
    "    exact_u_fun=partial(exact_example_u_tensor, nu=nu, T=T),\n",
    "    exact_p_fun=exact_example_p_tensor,\n",
    "    nb_pts_spatial=2*126+1\n",
    ")\n",
    "model.compare_with_exact(exact_fun=partial(exact_example, nu=nu), exclude_terminal=True, ylim=(-1, 1))"
   ]
  },
  {
   "cell_type": "markdown",
   "metadata": {
    "id": "puBETzqybZc7",
    "pycharm": {
     "name": "#%% md\n"
    }
   },
   "source": [
    "## 3-dimensional ABC flow\n",
    "$$\n",
    "\\begin{cases}\n",
    "  \\displaystyle\n",
    "  u_1(t, x) = \\left(A \\sin(x_3) + C \\cos(x_2)\\right) e^{-\\frac{\\nu}{2} (T - t)},\n",
    "  \\\\\n",
    "  u_2(t, x) = \\left(B \\sin(x_1) + A \\cos(x_3)\\right) e^{-\\frac{\\nu}{2} (T - t)},\n",
    "  \\\\\n",
    "  u_3(t, x) = \\left(C \\sin(x_2) + B \\cos(x_1)\\right) e^{-\\frac{\\nu}{2} (T - t)},\n",
    "  \\\\\n",
    "  u_0(t, x) = -\\left(AC \\sin(x_3) \\cos(x_2) + BA \\sin(x_1) \\cos(x_3) + CB \\sin(x_2) \\cos(x_1)\\right) e^{-\\nu (T - t)} + c,\n",
    "\\end{cases}\n",
    "$$\n",
    "$x=(x_1,x_2,x_3) \\in [0,2\\pi]^3$."
   ]
  },
  {
   "cell_type": "code",
   "execution_count": 7,
   "metadata": {
    "id": "_fyuebzCGhoj",
    "pycharm": {
     "name": "#%%\n"
    }
   },
   "outputs": [],
   "source": [
    "A = B = C = 0.5\n",
    "\n",
    "# function definition\n",
    "deriv_map = np.array(\n",
    "    [\n",
    "        [1, 0, 0],  # for nabla p\n",
    "        [0, 1, 0],\n",
    "        [0, 0, 1],\n",
    "        [0, 0, 0],  # for u\n",
    "        [0, 0, 0],\n",
    "        [0, 0, 0],\n",
    "        [1, 0, 0],  # for nabla u1\n",
    "        [0, 1, 0],\n",
    "        [0, 0, 1],\n",
    "        [1, 0, 0],  # for nabla u2\n",
    "        [0, 1, 0],\n",
    "        [0, 0, 1],\n",
    "        [1, 0, 0],  # for nabla u3\n",
    "        [0, 1, 0],\n",
    "        [0, 0, 1],\n",
    "    ]\n",
    ")\n",
    "zeta_map = np.array([-1, -1, -1, 0, 1, 2, 0, 0, 0, 1, 1, 1, 2, 2, 2])\n",
    "deriv_condition_deriv_map = np.array(\n",
    "    [\n",
    "        [1, 0, 0],\n",
    "        [0, 1, 0],\n",
    "        [0, 0, 1],\n",
    "    ]\n",
    ")\n",
    "deriv_condition_zeta_map = np.array([0, 1, 2])\n",
    "\n",
    "_, dim = deriv_map.shape\n",
    "\n",
    "def f_example(y, coordinate):\n",
    "    \"\"\"\n",
    "    idx 0 -> no deriv\n",
    "    \"\"\"\n",
    "    f = -y[coordinate]\n",
    "    for j in range(dim):\n",
    "        f += -y[dim + j] * y[2 * dim + dim * coordinate + j]\n",
    "    return f\n",
    "\n",
    "def phi_example(x, coordinate):\n",
    "    if coordinate == 0:\n",
    "        return A * torch.sin(x[2]) + C * torch.cos(x[1])\n",
    "    elif coordinate == 1:\n",
    "        return B * torch.sin(x[0]) + A * torch.cos(x[2])\n",
    "    else:\n",
    "        return C * torch.sin(x[1]) + B * torch.cos(x[0])\n",
    "\n",
    "def exact_example(t, x, T, coordinate, nu):\n",
    "    if coordinate == 0:\n",
    "        return (A * np.sin(x[2]) + C * np.cos(x[1])) * np.exp(-nu / 2 * (T - t))\n",
    "    elif coordinate == 1:\n",
    "        return (B * np.sin(x[0]) + A * np.cos(x[2])) * np.exp(-nu / 2 * (T - t))\n",
    "    else:\n",
    "        return (C * np.sin(x[1]) + B * np.cos(x[0])) * np.exp(-nu / 2 * (T - t))\n",
    "\n",
    "def exact_example_u_tensor(tx, coordinate, T, nu):\n",
    "    if coordinate == 0:\n",
    "        return (A * torch.sin(tx[3]) + C * torch.cos(tx[2])) * torch.exp(-nu / 2 * (T - tx[0]))\n",
    "    elif coordinate == 1:\n",
    "        return (B * torch.sin(tx[1]) + A * torch.cos(tx[3])) * torch.exp(-nu / 2 * (T - tx[0]))\n",
    "    else:\n",
    "        return (C * torch.sin(tx[2]) + B * torch.cos(tx[1])) * torch.exp(-nu / 2 * (T - tx[0]))\n",
    "\n",
    "def exact_example_p_tensor(tx):\n",
    "    return -torch.exp(-nu * (T - tx[0])) * (\n",
    "        A * C * torch.sin(tx[3]) * torch.cos(tx[2])\n",
    "        + B * A * torch.sin(tx[1]) * torch.cos(tx[3])\n",
    "        + C * B * torch.sin(tx[2]) * torch.cos(tx[1])\n",
    "    )\n",
    "\n",
    "problem_name = \"abc_3d\"\n",
    "t_lo, x_lo, x_hi = 0., 0, 2 * math.pi"
   ]
  },
  {
   "cell_type": "markdown",
   "metadata": {
    "pycharm": {
     "name": "#%% md\n"
    }
   },
   "source": [
    "### T = .7, nu = .02"
   ]
  },
  {
   "cell_type": "code",
   "execution_count": 8,
   "metadata": {
    "colab": {
     "base_uri": "https://localhost:8080/",
     "height": 1000
    },
    "executionInfo": {
     "elapsed": 1819106,
     "status": "ok",
     "timestamp": 1647941958787,
     "user": {
      "displayName": "nguwi jy",
      "photoUrl": "https://lh3.googleusercontent.com/a-/AOh14GgoiFFc59OKXMvhrMZCwWWzqPAzDXA1ooQ_zi8p=s64",
      "userId": "17294038731682000497"
     },
     "user_tz": -480
    },
    "id": "z249CC8jhDwl",
    "outputId": "874b2413-7201-4162-8d26-03b16de8216a",
    "pycharm": {
     "name": "#%%\n"
    },
    "scrolled": true
   },
   "outputs": [
    {
     "name": "stderr",
     "output_type": "stream",
     "text": [
      "Logs are saved in /home/nguwijy/repo/deep_branching_with_domain/notebooks/logs/20221106-214424-abc_3d\n",
      "Epoch 0 with loss 1.336953043937683\n",
      "Epoch 500 with loss 0.009339217096567154\n",
      "Epoch 1000 with loss 0.002137829316779971\n",
      "Epoch 1500 with loss 0.0007588527514599264\n",
      "Epoch 2000 with loss 0.00037883035838603973\n",
      "Epoch 2500 with loss 0.00023038985091261566\n",
      "Epoch 3000 with loss 0.00016641803085803986\n",
      "Epoch 3500 with loss 0.00010837490845005959\n",
      "Epoch 4000 with loss 7.435668521793559e-05\n",
      "Epoch 4500 with loss 0.00012648555275518447\n",
      "Epoch 5000 with loss 9.534237324260175e-05\n",
      "Epoch 5500 with loss 3.7798301491420716e-05\n",
      "Epoch 6000 with loss 4.644060391001403e-05\n",
      "Epoch 6500 with loss 2.768871490843594e-05\n",
      "Epoch 7000 with loss 2.0135890736128204e-05\n",
      "Epoch 7500 with loss 2.1140593162272125e-05\n",
      "Epoch 8000 with loss 5.481932021211833e-05\n",
      "Epoch 8500 with loss 1.5528028598055243e-05\n",
      "Epoch 9000 with loss 2.4262702936539426e-05\n",
      "Epoch 9500 with loss 1.9993891328340396e-05\n",
      "Epoch 9999 with loss 1.2580765542224981e-05\n",
      "Training of neural network with 10000 epochs take 1328.844143629074 seconds.\n"
     ]
    }
   ],
   "source": [
    "T, nu = .7, .02\n",
    "\n",
    "torch.manual_seed(0)\n",
    "model = DGMNet(\n",
    "    problem_name=problem_name,\n",
    "    dgm_f_fun=f_example,\n",
    "    phi_fun=phi_example,\n",
    "    dgm_deriv_map=deriv_map,\n",
    "    dgm_zeta_map=zeta_map,\n",
    "    deriv_condition_deriv_map=deriv_condition_deriv_map,\n",
    "    deriv_condition_zeta_map=deriv_condition_zeta_map,\n",
    "    t_hi=T,\n",
    "    x_lo=x_lo,\n",
    "    x_hi=x_hi,\n",
    "    device=device,\n",
    "    verbose=True,\n",
    "    epochs=10000,\n",
    "    dgm_nb_states=10000,\n",
    ")\n",
    "model.train_and_eval()"
   ]
  },
  {
   "cell_type": "code",
   "execution_count": 9,
   "metadata": {
    "scrolled": false
   },
   "outputs": [
    {
     "name": "stderr",
     "output_type": "stream",
     "text": [
      "The error as in Lejay is calculated as follows.\n",
      "$\\hat{e}_0(t_k)$\n",
      "& 2.78E+00 & 2.79E+00 & 2.81E+00 & 2.82E+00 & 2.83E+00 & 2.84E+00 & 2.85E+00 & 2.86E+00 & 2.87E+00 & 2.88E+00 & --- \\\\\n",
      "$\\hat{e}_1(t_k)$\n",
      "& 2.99E+00 & 2.99E+00 & 2.99E+00 & 2.99E+00 & 2.99E+00 & 2.98E+00 & 2.98E+00 & 2.97E+00 & 2.97E+00 & 2.96E+00 & --- \\\\\n",
      "$\\hat{e}_2(t_k)$\n",
      "& 1.54E-01 & 1.25E-01 & 9.91E-02 & 7.60E-02 & 5.59E-02 & 3.89E-02 & 2.49E-02 & 1.40E-02 & 6.27E-03 & 1.67E-03 & --- \\\\\n",
      "$\\hat{e}(t_k)$\n",
      "& 3.66E+00 & 3.66E+00 & 3.65E+00 & 3.65E+00 & 3.65E+00 & 3.64E+00 & 3.64E+00 & 3.63E+00 & 3.63E+00 & 3.63E+00 & --- \\\\\n",
      "\\hline\n",
      "\n",
      "The relative L2 error of u (erru) is calculated as follows.\n",
      "erru($t_k$)\n",
      "& 1.24E+00 & 1.23E+00 & 1.23E+00 & 1.22E+00 & 1.21E+00 & 1.21E+00 & 1.21E+00 & 1.20E+00 & 1.20E+00 & 1.19E+00 & --- \\\\\n",
      "\n",
      "The relative L2 error of gradient of u (errgu) is calculated as follows.\n",
      "errgu($t_k$)\n",
      "& 8.44E-01 & 8.38E-01 & 8.33E-01 & 8.28E-01 & 8.24E-01 & 8.20E-01 & 8.18E-01 & 8.15E-01 & 8.14E-01 & 8.13E-01 & --- \\\\\n",
      "\n",
      "The absolute divergence of u (errdivu) is calculated as follows.\n",
      "errdivu($t_k$)\n",
      "& 2.06E+00 & 2.06E+00 & 2.07E+00 & 2.08E+00 & 2.08E+00 & 2.09E+00 & 2.10E+00 & 2.11E+00 & 2.12E+00 & 2.13E+00 & --- \\\\\n",
      "\n",
      "The relative L2 error of p (errp) is calculated as follows.\n",
      "errp($t_k$)\n",
      "& --- & --- & --- & --- & --- & --- & --- & --- & --- & --- & 6.77E+00 \\\\\n"
     ]
    },
    {
     "data": {
      "image/png": "[encoded data removed]",
      "text/plain": [
       "<Figure size 432x288 with 1 Axes>"
      ]
     },
     "metadata": {
      "needs_background": "light"
     },
     "output_type": "display_data"
    },
    {
     "data": {
      "image/png": "[encoded data removed]",
      "text/plain": [
       "<Figure size 432x288 with 1 Axes>"
      ]
     },
     "metadata": {
      "needs_background": "light"
     },
     "output_type": "display_data"
    },
    {
     "data": {
      "image/png": "[encoded data removed]",
      "text/plain": [
       "<Figure size 432x288 with 1 Axes>"
      ]
     },
     "metadata": {
      "needs_background": "light"
     },
     "output_type": "display_data"
    }
   ],
   "source": [
    "model.error_calculation(\n",
    "    exact_u_fun=partial(exact_example_u_tensor, nu=nu, T=T),\n",
    "    exact_p_fun=exact_example_p_tensor,\n",
    "    nb_pts_spatial=2*45+1\n",
    ")\n",
    "model.compare_with_exact(exact_fun=partial(exact_example, nu=nu), exclude_terminal=True, ylim=(-1, 0))"
   ]
  }
 ],
 "metadata": {
  "accelerator": "GPU",
  "colab": {
   "collapsed_sections": [
    "GSuvC0ycqjNq",
    "XC4ej7xCLaN1",
    "Rr6nHqQLYdLJ",
    "lGC3MnEEHLtv",
    "fQXKDk7IexOm",
    "u_dYHEeePLeD"
   ],
   "name": "comparison.ipynb",
   "provenance": [
    {
     "file_id": "/v2/external/notebooks/pro.ipynb",
     "timestamp": 1644891847321
    }
   ]
  },
  "kernelspec": {
   "display_name": "Python 3 (ipykernel)",
   "language": "python",
   "name": "python3"
  },
  "language_info": {
   "codemirror_mode": {
    "name": "ipython",
    "version": 3
   },
   "file_extension": ".py",
   "mimetype": "text/x-python",
   "name": "python",
   "nbconvert_exporter": "python",
   "pygments_lexer": "ipython3",
   "version": "3.8.10"
  }
 },
 "nbformat": 4,
 "nbformat_minor": 4
}
